{
 "cells": [
  {
   "cell_type": "code",
   "execution_count": 1,
   "metadata": {},
   "outputs": [
    {
     "name": "stdout",
     "output_type": "stream",
     "text": [
      "Requirement already satisfied: flask in /Users/sofia/opt/anaconda3/lib/python3.7/site-packages (1.1.1)\n",
      "Requirement already satisfied: Werkzeug>=0.15 in /Users/sofia/opt/anaconda3/lib/python3.7/site-packages (from flask) (0.16.0)\n",
      "Requirement already satisfied: click>=5.1 in /Users/sofia/opt/anaconda3/lib/python3.7/site-packages (from flask) (7.0)\n",
      "Requirement already satisfied: itsdangerous>=0.24 in /Users/sofia/opt/anaconda3/lib/python3.7/site-packages (from flask) (1.1.0)\n",
      "Requirement already satisfied: Jinja2>=2.10.1 in /Users/sofia/opt/anaconda3/lib/python3.7/site-packages (from flask) (2.10.3)\n",
      "Requirement already satisfied: MarkupSafe>=0.23 in /Users/sofia/opt/anaconda3/lib/python3.7/site-packages (from Jinja2>=2.10.1->flask) (1.1.1)\n",
      "Note: you may need to restart the kernel to use updated packages.\n"
     ]
    }
   ],
   "source": [
    "pip install flask"
   ]
  },
  {
   "cell_type": "code",
   "execution_count": null,
   "metadata": {},
   "outputs": [],
   "source": [
    "from flask import Flask, render_template, redirect, request, url_for\n",
    "app = Flask(__name__)\n",
    " \n",
    "@app.route('/')\n",
    "@app.route('/<string:url>')\n",
    "def inputTest(url=None):\n",
    "    return render_template('home.html', url=url)\n",
    "    \n",
    "@app.route('/create',methods=['GET'])\n",
    "def create(url=None):\n",
    "    if request.method == 'GET':\n",
    "        temp = request.form['url']\n",
    "    else:\n",
    "        temp = None\n",
    "    return redirect(url_for('testing html parsing',url=temp))\n",
    " \n",
    "if __name__ == '__main__':\n",
    "    app.run()\n"
   ]
  }
 ],
 "metadata": {
  "kernelspec": {
   "display_name": "Python 3",
   "language": "python",
   "name": "python3"
  },
  "language_info": {
   "codemirror_mode": {
    "name": "ipython",
    "version": 3
   },
   "file_extension": ".py",
   "mimetype": "text/x-python",
   "name": "python",
   "nbconvert_exporter": "python",
   "pygments_lexer": "ipython3",
   "version": "3.7.4"
  },
  "toc": {
   "base_numbering": 1,
   "nav_menu": {},
   "number_sections": true,
   "sideBar": true,
   "skip_h1_title": false,
   "title_cell": "Table of Contents",
   "title_sidebar": "Contents",
   "toc_cell": false,
   "toc_position": {},
   "toc_section_display": true,
   "toc_window_display": false
  },
  "varInspector": {
   "cols": {
    "lenName": 16,
    "lenType": 16,
    "lenVar": 40
   },
   "kernels_config": {
    "python": {
     "delete_cmd_postfix": "",
     "delete_cmd_prefix": "del ",
     "library": "var_list.py",
     "varRefreshCmd": "print(var_dic_list())"
    },
    "r": {
     "delete_cmd_postfix": ") ",
     "delete_cmd_prefix": "rm(",
     "library": "var_list.r",
     "varRefreshCmd": "cat(var_dic_list()) "
    }
   },
   "types_to_exclude": [
    "module",
    "function",
    "builtin_function_or_method",
    "instance",
    "_Feature"
   ],
   "window_display": false
  }
 },
 "nbformat": 4,
 "nbformat_minor": 2
}
